{
 "cells": [
  {
   "cell_type": "code",
   "execution_count": null,
   "id": "80c177ff-6240-43a4-9de3-592e274f183d",
   "metadata": {},
   "outputs": [],
   "source": [
    "from models.siamese import SiameseNetwork\n",
    "from dataset.triplets import generate_dataset, TripletFaceDataset\n",
    "\n",
    "import torch\n",
    "from torch.optim import SGD\n",
    "from torch.nn import BCELoss\n",
    "from torch.utils.data import DataLoader\n",
    "from torchvision import transforms"
   ]
  },
  {
   "cell_type": "code",
   "execution_count": null,
   "id": "4531b5a6-d7ad-43d2-b865-15a3b4044ace",
   "metadata": {},
   "outputs": [],
   "source": [
    "data_folder_path = 'F:/ML Data/105_classes_pins_dataset'\n",
    "data_df = generate_dataset(data_folder_path)\n",
    "\n",
    "transform = transforms.Compose([\n",
    "    transforms.ToTensor(),\n",
    "    transforms.Resize((160, 160))\n",
    "])\n",
    "dataset = TripletFaceDataset(\n",
    "    triplets_dataframe=data_df,\n",
    "    weights_path=\"models/TrainedWeights\",\n",
    "    transform=transform\n",
    ")\n",
    "dataloader = DataLoader(\n",
    "    dataset=dataset,\n",
    "    batch_size=1,\n",
    "    shuffle=True\n",
    ")"
   ]
  },
  {
   "cell_type": "code",
   "execution_count": null,
   "id": "400ff0a3d36d018b",
   "metadata": {
    "collapsed": false
   },
   "outputs": [],
   "source": [
    "device = torch.device(\"cuda:0\" if torch.cuda.is_available() else \"cpu\")\n",
    "\n",
    "model = SiameseNetwork().to(device)\n",
    "optimizer = SGD(model.parameters(), lr=0.01)\n",
    "criterion = BCELoss()"
   ]
  },
  {
   "cell_type": "code",
   "execution_count": null,
   "id": "d0096550d50fdb40",
   "metadata": {
    "collapsed": false
   },
   "outputs": [],
   "source": [
    "def train_step(batch):\n",
    "    model.train()\n",
    "    model.encoder.eval()\n",
    "    optimizer.zero_grad()\n",
    "    anchor, positive, negative = batch[0].to(device), batch[1].to(device), batch[2].to(device)\n",
    "    y_pos = model(anchor, positive)\n",
    "    y_pos_true = torch.tensor([1], dtype=torch.float)\n",
    "    loss_p = criterion(y_pos, y_pos_true)\n",
    "    loss_p.backward()\n",
    "    optimizer.step()\n",
    "    y_neg = model(anchor, negative)\n",
    "    y_neg_true = torch.tensor([0], dtype=torch.float)\n",
    "    loss_n = criterion(y_neg, y_neg_true)\n",
    "    loss_n.backward()\n",
    "    optimizer.step()\n",
    "    return (loss_p.item() + loss_n.item())/2\n",
    "\n",
    "def validation_step(batch):\n",
    "    model.eval()\n",
    "    with torch.no_grad():\n",
    "        anchor, positive, negative = batch[0].to(device), batch[1].to(device), batch[2].to(device)\n",
    "        y_p = model(anchor, positive)\n",
    "        y_n = model(anchor, negative)\n",
    "        return y_p.item(), y_n.item()"
   ]
  },
  {
   "cell_type": "code",
   "execution_count": null,
   "id": "9fa5c3a268052523",
   "metadata": {
    "collapsed": false
   },
   "outputs": [],
   "source": [
    "running_loss = 0.0\n",
    "for i, batch in enumerate(dataloader):\n",
    "    current_loss = train_step(batch)\n",
    "    running_loss += current_loss\n",
    "    if i%10 == 9:\n",
    "        print(f\"Loss: {running_loss/10}\")\n",
    "        running_loss = 0"
   ]
  }
 ],
 "metadata": {
  "kernelspec": {
   "display_name": "Python 3 (ipykernel)",
   "language": "python",
   "name": "python3"
  },
  "language_info": {
   "codemirror_mode": {
    "name": "ipython",
    "version": 3
   },
   "file_extension": ".py",
   "mimetype": "text/x-python",
   "name": "python",
   "nbconvert_exporter": "python",
   "pygments_lexer": "ipython3",
   "version": "3.10.13"
  }
 },
 "nbformat": 4,
 "nbformat_minor": 5
}
