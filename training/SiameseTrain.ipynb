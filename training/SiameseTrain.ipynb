{
 "cells": [
  {
   "cell_type": "code",
   "execution_count": 1,
   "id": "80c177ff-6240-43a4-9de3-592e274f183d",
   "metadata": {},
   "outputs": [],
   "source": [
    "from models.siamese import SiameseNetwork\n",
    "from dataset.triplets import generate_dataset, TripletFaceDataset\n",
    "\n",
    "import torch\n",
    "from torch.optim import SGD\n",
    "from torch.nn import BCELoss\n",
    "from torch.utils.data import DataLoader\n",
    "from torchvision import transforms"
   ]
  },
  {
   "cell_type": "code",
   "execution_count": 2,
   "id": "4531b5a6-d7ad-43d2-b865-15a3b4044ace",
   "metadata": {},
   "outputs": [
    {
     "ename": "FileNotFoundError",
     "evalue": "[Errno 2] No such file or directory: 'F:/ML Data/105_classes_pins_dataset'",
     "output_type": "error",
     "traceback": [
      "\u001b[0;31m---------------------------------------------------------------------------\u001b[0m",
      "\u001b[0;31mFileNotFoundError\u001b[0m                         Traceback (most recent call last)",
      "Cell \u001b[0;32mIn[2], line 2\u001b[0m\n\u001b[1;32m      1\u001b[0m data_folder_path \u001b[38;5;241m=\u001b[39m \u001b[38;5;124m'\u001b[39m\u001b[38;5;124mF:/ML Data/105_classes_pins_dataset\u001b[39m\u001b[38;5;124m'\u001b[39m\n\u001b[0;32m----> 2\u001b[0m data_df \u001b[38;5;241m=\u001b[39m \u001b[43mgenerate_dataset\u001b[49m\u001b[43m(\u001b[49m\u001b[43mdata_folder_path\u001b[49m\u001b[43m)\u001b[49m\n\u001b[1;32m      4\u001b[0m transform \u001b[38;5;241m=\u001b[39m transforms\u001b[38;5;241m.\u001b[39mCompose([\n\u001b[1;32m      5\u001b[0m     transforms\u001b[38;5;241m.\u001b[39mToTensor(),\n\u001b[1;32m      6\u001b[0m     transforms\u001b[38;5;241m.\u001b[39mResize((\u001b[38;5;241m160\u001b[39m, \u001b[38;5;241m160\u001b[39m))\n\u001b[1;32m      7\u001b[0m ])\n\u001b[1;32m      8\u001b[0m dataset \u001b[38;5;241m=\u001b[39m TripletFaceDataset(\n\u001b[1;32m      9\u001b[0m     triplets_dataframe\u001b[38;5;241m=\u001b[39mdata_df,\n\u001b[1;32m     10\u001b[0m     weights_path\u001b[38;5;241m=\u001b[39m\u001b[38;5;124m\"\u001b[39m\u001b[38;5;124mmodels/TrainedWeights\u001b[39m\u001b[38;5;124m\"\u001b[39m,\n\u001b[1;32m     11\u001b[0m     transform\u001b[38;5;241m=\u001b[39mtransform\n\u001b[1;32m     12\u001b[0m )\n",
      "File \u001b[0;32m~/FaceRecognition/dataset/triplets.py:66\u001b[0m, in \u001b[0;36mgenerate_dataset\u001b[0;34m(root_dir)\u001b[0m\n\u001b[1;32m     49\u001b[0m \u001b[38;5;28;01mdef\u001b[39;00m \u001b[38;5;21mgenerate_dataset\u001b[39m(root_dir):\n\u001b[1;32m     50\u001b[0m \u001b[38;5;250m    \u001b[39m\u001b[38;5;124;03m\"\"\"\u001b[39;00m\n\u001b[1;32m     51\u001b[0m \u001b[38;5;124;03m    Generates triplets of images (anchor, positive, negative) from the images present in the given directory\u001b[39;00m\n\u001b[1;32m     52\u001b[0m \u001b[38;5;124;03m    for training FaceNet with a triplet loss function.\u001b[39;00m\n\u001b[0;32m   (...)\u001b[0m\n\u001b[1;32m     64\u001b[0m \u001b[38;5;124;03m        print(dataset.head())\u001b[39;00m\n\u001b[1;32m     65\u001b[0m \u001b[38;5;124;03m    \"\"\"\u001b[39;00m\n\u001b[0;32m---> 66\u001b[0m     files \u001b[38;5;241m=\u001b[39m \u001b[43mget_files_list\u001b[49m\u001b[43m(\u001b[49m\u001b[43mroot_dir\u001b[49m\u001b[43m)\u001b[49m\n\u001b[1;32m     68\u001b[0m     anchor_files, positive_files, negative_files \u001b[38;5;241m=\u001b[39m [], [], []\n\u001b[1;32m     69\u001b[0m     \u001b[38;5;28;01mwhile\u001b[39;00m \u001b[38;5;28mlen\u001b[39m(files) \u001b[38;5;241m>\u001b[39m \u001b[38;5;241m0\u001b[39m:\n\u001b[1;32m     70\u001b[0m \n\u001b[1;32m     71\u001b[0m         \u001b[38;5;66;03m# Stop if there are only two folders and one of them is empty\u001b[39;00m\n",
      "File \u001b[0;32m~/FaceRecognition/dataset/triplets.py:31\u001b[0m, in \u001b[0;36mget_files_list\u001b[0;34m(root_dir)\u001b[0m\n\u001b[1;32m     11\u001b[0m \u001b[38;5;28;01mdef\u001b[39;00m \u001b[38;5;21mget_files_list\u001b[39m(root_dir):\n\u001b[1;32m     12\u001b[0m \u001b[38;5;250m    \u001b[39m\u001b[38;5;124;03m\"\"\"\u001b[39;00m\n\u001b[1;32m     13\u001b[0m \u001b[38;5;124;03m    Generates a nested list of file paths for files inside the sub folders of a given directory,\u001b[39;00m\n\u001b[1;32m     14\u001b[0m \u001b[38;5;124;03m    where each sublist corresponds to a single directory.\u001b[39;00m\n\u001b[0;32m   (...)\u001b[0m\n\u001b[1;32m     29\u001b[0m \u001b[38;5;124;03m        [['/path/to/root_directory/sub_folder1/file1', '/path/to/root_directory/sub_folder1/file2', ...], ...]\u001b[39;00m\n\u001b[1;32m     30\u001b[0m \u001b[38;5;124;03m    \"\"\"\u001b[39;00m\n\u001b[0;32m---> 31\u001b[0m     list_root_dir \u001b[38;5;241m=\u001b[39m \u001b[43mos\u001b[49m\u001b[38;5;241;43m.\u001b[39;49m\u001b[43mlistdir\u001b[49m\u001b[43m(\u001b[49m\u001b[43mroot_dir\u001b[49m\u001b[43m)\u001b[49m\n\u001b[1;32m     33\u001b[0m     \u001b[38;5;66;03m# Getting the complete path of the child directories\u001b[39;00m\n\u001b[1;32m     34\u001b[0m     child_dirs \u001b[38;5;241m=\u001b[39m []\n",
      "\u001b[0;31mFileNotFoundError\u001b[0m: [Errno 2] No such file or directory: 'F:/ML Data/105_classes_pins_dataset'"
     ]
    }
   ],
   "source": [
    "data_folder_path = 'F:/ML Data/105_classes_pins_dataset'\n",
    "data_df = generate_dataset(data_folder_path)\n",
    "\n",
    "transform = transforms.Compose([\n",
    "    transforms.ToTensor(),\n",
    "    transforms.Resize((160, 160))\n",
    "])\n",
    "dataset = TripletFaceDataset(\n",
    "    triplets_dataframe=data_df,\n",
    "    weights_path=\"models/TrainedWeights\",\n",
    "    transform=transform\n",
    ")\n",
    "dataloader = DataLoader(\n",
    "    dataset=dataset,\n",
    "    batch_size=16,\n",
    "    shuffle=True\n",
    ")"
   ]
  },
  {
   "cell_type": "code",
   "execution_count": null,
   "id": "400ff0a3d36d018b",
   "metadata": {
    "collapsed": false
   },
   "outputs": [],
   "source": [
    "device = torch.device(\"cuda:0\" if torch.cuda.is_available() else \"cpu\")\n",
    "\n",
    "model = SiameseNetwork().to(device)\n",
    "optimizer = SGD(model.parameters(), lr=0.01)\n",
    "criterion = BCELoss()"
   ]
  },
  {
   "cell_type": "code",
   "execution_count": null,
   "id": "d0096550d50fdb40",
   "metadata": {
    "collapsed": false
   },
   "outputs": [],
   "source": [
    "def train_step(batch):\n",
    "    model.train()\n",
    "    model.encoder.eval()\n",
    "    optimizer.zero_grad()\n",
    "    anchor, positive, negative = batch[0].to(device), batch[1].to(device), batch[2].to(device)\n",
    "    y_pos = model(anchor, positive)\n",
    "    y_pos_true = torch.tensor([1], dtype=torch.float)\n",
    "    loss_p = criterion(y_pos, y_pos_true)\n",
    "    loss_p.backward()\n",
    "    optimizer.step()\n",
    "    y_neg = model(anchor, negative)\n",
    "    y_neg_true = torch.tensor([0], dtype=torch.float)\n",
    "    loss_n = criterion(y_neg, y_neg_true)\n",
    "    loss_n.backward()\n",
    "    optimizer.step()\n",
    "    return (loss_p.item() + loss_n.item())/2\n",
    "\n",
    "def validation_step(batch):\n",
    "    model.eval()\n",
    "    with torch.no_grad():\n",
    "        anchor, positive, negative = batch[0].to(device), batch[1].to(device), batch[2].to(device)\n",
    "        y_p = model(anchor, positive)\n",
    "        y_n = model(anchor, negative)\n",
    "        return y_p.item(), y_n.item()"
   ]
  },
  {
   "cell_type": "code",
   "execution_count": null,
   "id": "9fa5c3a268052523",
   "metadata": {
    "collapsed": false
   },
   "outputs": [],
   "source": [
    "running_loss = 0.0\n",
    "for i, batch in enumerate(dataloader):\n",
    "    current_loss = train_step(batch)\n",
    "    running_loss += current_loss\n",
    "    if i%10 == 9:\n",
    "        print(f\"Loss: {running_loss/10}\")\n",
    "        running_loss = 0"
   ]
  }
 ],
 "metadata": {
  "kernelspec": {
   "display_name": "Python 3 (ipykernel)",
   "language": "python",
   "name": "python3"
  },
  "language_info": {
   "codemirror_mode": {
    "name": "ipython",
    "version": 3
   },
   "file_extension": ".py",
   "mimetype": "text/x-python",
   "name": "python",
   "nbconvert_exporter": "python",
   "pygments_lexer": "ipython3",
   "version": "3.10.14"
  }
 },
 "nbformat": 4,
 "nbformat_minor": 5
}
